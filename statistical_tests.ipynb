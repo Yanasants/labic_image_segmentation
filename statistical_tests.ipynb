{
 "cells": [
  {
   "attachments": {},
   "cell_type": "markdown",
   "metadata": {},
   "source": [
    "#### Importando módulos"
   ]
  },
  {
   "cell_type": "code",
   "execution_count": 86,
   "metadata": {},
   "outputs": [],
   "source": [
    "from scipy import stats\n",
    "import scikit_posthocs as sp\n",
    "import pandas as pd"
   ]
  },
  {
   "attachments": {},
   "cell_type": "markdown",
   "metadata": {},
   "source": [
    "#### Carregando reports (.csv)"
   ]
  },
  {
   "cell_type": "code",
   "execution_count": 87,
   "metadata": {},
   "outputs": [],
   "source": [
    "unet_efficientnetb0 = pd.read_csv(\"lung_CTs/outputs/Exec_2023-05-12-17-54-33.051352_unet_efficientnetb0/unet_efficientnetb0.csv\")\n",
    "unet_efficientnetb0 = list(unet_efficientnetb0[\"unet_efficientnetb0\"][:-5].values)"
   ]
  },
  {
   "cell_type": "code",
   "execution_count": 88,
   "metadata": {},
   "outputs": [],
   "source": [
    "unet_resnet34 = pd.read_csv(\"lung_CTs/outputs/Exec_2023-05-12-22-24-04.035854_unet_resnet34/unet_resnet34.csv\")\n",
    "unet_resnet34 = list(unet_resnet34[\"unet_resnet34\"][:-5].values)"
   ]
  },
  {
   "cell_type": "code",
   "execution_count": 89,
   "metadata": {},
   "outputs": [],
   "source": [
    "linknet_resnet34 = pd.read_csv(\"lung_CTs/outputs/Exec_2023-05-12-23-31-26.612538_linknet_resnet34/linknet_resnet34.csv\")\n",
    "linknet_resnet34 = list(linknet_resnet34[\"linknet_resnet34\"][:-5].values)"
   ]
  },
  {
   "cell_type": "code",
   "execution_count": 90,
   "metadata": {},
   "outputs": [],
   "source": [
    "unet_original_ed_mod1 = [0.951, 0.960, 0.960, 0.950, 0.960, 0.950, 0.952, 0.956, 0.958, 0.962]"
   ]
  },
  {
   "cell_type": "code",
   "execution_count": 91,
   "metadata": {},
   "outputs": [],
   "source": [
    "unet_original_ed_mod2 = [0.952 , 0.955 , 0.958, 0.953, 0.959, 0.959, 0.965, 0.959, 0.956, 0.957]"
   ]
  },
  {
   "attachments": {},
   "cell_type": "markdown",
   "metadata": {},
   "source": [
    "#### Kruskal-Wallis"
   ]
  },
  {
   "attachments": {},
   "cell_type": "markdown",
   "metadata": {},
   "source": [
    "##### Entre redes com backbones"
   ]
  },
  {
   "cell_type": "code",
   "execution_count": 92,
   "metadata": {},
   "outputs": [
    {
     "data": {
      "text/plain": [
       "KruskalResult(statistic=4.740000000000002, pvalue=0.09348072627805837)"
      ]
     },
     "execution_count": 92,
     "metadata": {},
     "output_type": "execute_result"
    }
   ],
   "source": [
    "stats.kruskal(unet_efficientnetb0, unet_resnet34, linknet_resnet34)"
   ]
  },
  {
   "attachments": {},
   "cell_type": "markdown",
   "metadata": {},
   "source": [
    "##### Entre redes com backbones e unet originais"
   ]
  },
  {
   "cell_type": "code",
   "execution_count": 93,
   "metadata": {},
   "outputs": [
    {
     "data": {
      "text/plain": [
       "KruskalResult(statistic=25.426066217732906, pvalue=4.1298416239802455e-05)"
      ]
     },
     "execution_count": 93,
     "metadata": {},
     "output_type": "execute_result"
    }
   ],
   "source": [
    "stats.kruskal(unet_efficientnetb0,  unet_resnet34, linknet_resnet34, unet_original_ed_mod1, unet_original_ed_mod2)"
   ]
  },
  {
   "attachments": {},
   "cell_type": "markdown",
   "metadata": {},
   "source": [
    "#### Dunn entre redes com backbones e unet originais"
   ]
  },
  {
   "cell_type": "code",
   "execution_count": 94,
   "metadata": {},
   "outputs": [],
   "source": [
    "modelos = [unet_efficientnetb0, unet_resnet34, linknet_resnet34,unet_original_ed_mod1, unet_original_ed_mod2]\n",
    "matrix = []\n",
    "\n",
    "for modelo in modelos:\n",
    "    matrix.append(modelo)\n",
    "\n",
    "models_names = [\"unet_efficientnetb0\", \"unet_resnet34\", \"linknet_resnet34\", \"unet_original_ed_mod1\", \"unet_original_ed_mod2\"]\n",
    "index_colums = {i+1:models_names[i] for i in range(len(models_names))}\n",
    "posthoc = sp.posthoc_dunn(matrix, p_adjust='bonferroni')\n",
    "df = pd.DataFrame(posthoc).rename(index=index_colums, columns=index_colums)\n",
    "df.to_csv(\"lung_CTs/dunn_test.csv\")\n"
   ]
  },
  {
   "cell_type": "code",
   "execution_count": 95,
   "metadata": {},
   "outputs": [
    {
     "data": {
      "text/html": [
       "<div>\n",
       "<style scoped>\n",
       "    .dataframe tbody tr th:only-of-type {\n",
       "        vertical-align: middle;\n",
       "    }\n",
       "\n",
       "    .dataframe tbody tr th {\n",
       "        vertical-align: top;\n",
       "    }\n",
       "\n",
       "    .dataframe thead th {\n",
       "        text-align: right;\n",
       "    }\n",
       "</style>\n",
       "<table border=\"1\" class=\"dataframe\">\n",
       "  <thead>\n",
       "    <tr style=\"text-align: right;\">\n",
       "      <th></th>\n",
       "      <th>unet_efficientnetb0</th>\n",
       "      <th>unet_resnet34</th>\n",
       "      <th>linknet_resnet34</th>\n",
       "      <th>unet_original_ed_mod1</th>\n",
       "      <th>unet_original_ed_mod2</th>\n",
       "    </tr>\n",
       "  </thead>\n",
       "  <tbody>\n",
       "    <tr>\n",
       "      <th>unet_efficientnetb0</th>\n",
       "      <td>1.000000</td>\n",
       "      <td>1.000000</td>\n",
       "      <td>1.000000</td>\n",
       "      <td>0.001510</td>\n",
       "      <td>0.002846</td>\n",
       "    </tr>\n",
       "    <tr>\n",
       "      <th>unet_resnet34</th>\n",
       "      <td>1.000000</td>\n",
       "      <td>1.000000</td>\n",
       "      <td>1.000000</td>\n",
       "      <td>0.023624</td>\n",
       "      <td>0.039776</td>\n",
       "    </tr>\n",
       "    <tr>\n",
       "      <th>linknet_resnet34</th>\n",
       "      <td>1.000000</td>\n",
       "      <td>1.000000</td>\n",
       "      <td>1.000000</td>\n",
       "      <td>0.080943</td>\n",
       "      <td>0.128601</td>\n",
       "    </tr>\n",
       "    <tr>\n",
       "      <th>unet_original_ed_mod1</th>\n",
       "      <td>0.001510</td>\n",
       "      <td>0.023624</td>\n",
       "      <td>0.080943</td>\n",
       "      <td>1.000000</td>\n",
       "      <td>1.000000</td>\n",
       "    </tr>\n",
       "    <tr>\n",
       "      <th>unet_original_ed_mod2</th>\n",
       "      <td>0.002846</td>\n",
       "      <td>0.039776</td>\n",
       "      <td>0.128601</td>\n",
       "      <td>1.000000</td>\n",
       "      <td>1.000000</td>\n",
       "    </tr>\n",
       "  </tbody>\n",
       "</table>\n",
       "</div>"
      ],
      "text/plain": [
       "                       unet_efficientnetb0  unet_resnet34  linknet_resnet34  \\\n",
       "unet_efficientnetb0               1.000000       1.000000          1.000000   \n",
       "unet_resnet34                     1.000000       1.000000          1.000000   \n",
       "linknet_resnet34                  1.000000       1.000000          1.000000   \n",
       "unet_original_ed_mod1             0.001510       0.023624          0.080943   \n",
       "unet_original_ed_mod2             0.002846       0.039776          0.128601   \n",
       "\n",
       "                       unet_original_ed_mod1  unet_original_ed_mod2  \n",
       "unet_efficientnetb0                 0.001510               0.002846  \n",
       "unet_resnet34                       0.023624               0.039776  \n",
       "linknet_resnet34                    0.080943               0.128601  \n",
       "unet_original_ed_mod1               1.000000               1.000000  \n",
       "unet_original_ed_mod2               1.000000               1.000000  "
      ]
     },
     "execution_count": 95,
     "metadata": {},
     "output_type": "execute_result"
    }
   ],
   "source": [
    "df"
   ]
  }
 ],
 "metadata": {
  "kernelspec": {
   "display_name": "ys_tensorflow_env",
   "language": "python",
   "name": "python3"
  },
  "language_info": {
   "codemirror_mode": {
    "name": "ipython",
    "version": 3
   },
   "file_extension": ".py",
   "mimetype": "text/x-python",
   "name": "python",
   "nbconvert_exporter": "python",
   "pygments_lexer": "ipython3",
   "version": "3.9.7"
  },
  "orig_nbformat": 4
 },
 "nbformat": 4,
 "nbformat_minor": 2
}
