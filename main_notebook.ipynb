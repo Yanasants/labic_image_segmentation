{
 "cells": [
  {
   "attachments": {},
   "cell_type": "markdown",
   "metadata": {},
   "source": [
    "### Labic Images Segmentation - Main Notebook"
   ]
  },
  {
   "attachments": {},
   "cell_type": "markdown",
   "metadata": {},
   "source": [
    "#### Importando módulos"
   ]
  },
  {
   "cell_type": "code",
   "execution_count": null,
   "metadata": {},
   "outputs": [],
   "source": [
    "import labic_init\n",
    "labic_init.labic_init()"
   ]
  },
  {
   "cell_type": "code",
   "execution_count": null,
   "metadata": {},
   "outputs": [],
   "source": [
    "from labic_images_segmentation import Dataset, DataAugmentation, SegmentationModel, SaveReport, PredictImages, DiceCoef"
   ]
  },
  {
   "cell_type": "code",
   "execution_count": null,
   "metadata": {},
   "outputs": [],
   "source": [
    "import tensorflow as tf\n",
    "import json"
   ]
  },
  {
   "attachments": {},
   "cell_type": "markdown",
   "metadata": {},
   "source": [
    "#### Parâmetros"
   ]
  },
  {
   "cell_type": "code",
   "execution_count": null,
   "metadata": {},
   "outputs": [],
   "source": [
    "with open(\"config.json\", \"r\") as params:\n",
    "    config = json.load(params)"
   ]
  },
  {
   "cell_type": "code",
   "execution_count": null,
   "metadata": {},
   "outputs": [],
   "source": [
    "callbacks = []\n",
    "if \"early_stopping\" in config[\"callback\"]:\n",
    "    callbacks.append(tf.keras.callbacks.EarlyStopping(monitor=config[\"monitor\"], mode=config[\"mode_es\"], \\\n",
    "                                                verbose=config[\"verbose_es\"], patience=config[\"patience_es\"]))\n",
    "elif \"reduce_lr_on_plateau\" in config[\"callback\"]:\n",
    "    callbacks.append(tf.keras.callbacks.ReduceLROnPlateau(monitor=config[\"monitor\"], factor=config[\"factor_lr\"],\n",
    "                              patience=config[\"patience_lr\"], min_lr=[\"min_lr\"]))\n",
    "elif config[\"callback\"] == None:\n",
    "    callbacks = None"
   ]
  },
  {
   "attachments": {},
   "cell_type": "markdown",
   "metadata": {},
   "source": [
    "#### Treinamento"
   ]
  },
  {
   "attachments": {},
   "cell_type": "markdown",
   "metadata": {},
   "source": [
    "##### Carregando dataset"
   ]
  },
  {
   "cell_type": "code",
   "execution_count": null,
   "metadata": {},
   "outputs": [],
   "source": [
    "imgs = Dataset(folder=config[\"dataset_folder\"], norm_imgs_folder=config[\"norm_imgs_folder\"], gt_folder=config[\"gt_folder\"], \\\n",
    "                ORIGINAL_SIZE=config[\"ORIGINAL_SIZE\"], NEW_SIZE=config[\"NEW_SIZE\"], normalize=config[\"normalize\"])"
   ]
  },
  {
   "attachments": {},
   "cell_type": "markdown",
   "metadata": {},
   "source": [
    "##### Dividindo dataset "
   ]
  },
  {
   "cell_type": "code",
   "execution_count": null,
   "metadata": {},
   "outputs": [],
   "source": [
    "imgs.split_dataset()"
   ]
  },
  {
   "attachments": {},
   "cell_type": "markdown",
   "metadata": {},
   "source": [
    "##### Data Augmentation"
   ]
  },
  {
   "cell_type": "code",
   "execution_count": null,
   "metadata": {},
   "outputs": [],
   "source": [
    "data_aug = DataAugmentation(X_train=imgs.X_train, Y_train=imgs.Y_train, X_val=imgs.X_val, Y_val=imgs.Y_val, use_batch_size=config[\"batch_size\"])"
   ]
  },
  {
   "attachments": {},
   "cell_type": "markdown",
   "metadata": {},
   "source": [
    "##### Treinamento da rede"
   ]
  },
  {
   "cell_type": "code",
   "execution_count": null,
   "metadata": {},
   "outputs": [],
   "source": [
    "segment = SegmentationModel(N=imgs.X_train.shape[-1], segmentation_model=config[\"model\"], backbone_name=config[\"backbone_name\"],\\\n",
    "                             callback=callbacks, input_layer_shape=imgs.X_train.shape[1:], trainDS=data_aug.trainDS, valDS=data_aug.valDS, epochs=config[\"epochs\"])"
   ]
  },
  {
   "attachments": {},
   "cell_type": "markdown",
   "metadata": {},
   "source": [
    "##### Salvando modelo e history"
   ]
  },
  {
   "cell_type": "code",
   "execution_count": null,
   "metadata": {},
   "outputs": [],
   "source": [
    "save_report = SaveReport(model=segment.model, history=segment.history, folder_name=config[\"output_folder\"], n_fold=config[\"n_fold\"],\\\n",
    "                         use_batch_size=config[\"batch_size\"], epochs=config[\"epochs\"], exec_folder_name=config[\"exec_folder_name\"])"
   ]
  },
  {
   "attachments": {},
   "cell_type": "markdown",
   "metadata": {},
   "source": [
    "#### Predição "
   ]
  },
  {
   "attachments": {},
   "cell_type": "markdown",
   "metadata": {},
   "source": [
    "##### Carregando imagens de teste"
   ]
  },
  {
   "cell_type": "code",
   "execution_count": null,
   "metadata": {},
   "outputs": [],
   "source": [
    "test_imgs = Dataset(folder=config[\"output_folder\"], norm_imgs_folder=config[\"test_imgs_folder\"], gt_folder=config[\"gt_test_folder\"],\\\n",
    "                     ORIGINAL_SIZE=config[\"ORIGINAL_SIZE\"], NEW_SIZE=config[\"NEW_SIZE\"], normalize=config[\"normalize\"])"
   ]
  },
  {
   "attachments": {},
   "cell_type": "markdown",
   "metadata": {},
   "source": [
    "#### Segmentando imagens de teste"
   ]
  },
  {
   "cell_type": "code",
   "execution_count": null,
   "metadata": {},
   "outputs": [],
   "source": [
    "prediction = PredictImages(test_images=test_imgs, n_fold_folder_name=save_report.n_fold_folder_name, \\\n",
    "                           model_name=save_report.model_name, use_batch_size=config[\"batch_size\"], img_shape=test_imgs.img_shape)"
   ]
  },
  {
   "attachments": {},
   "cell_type": "markdown",
   "metadata": {},
   "source": [
    "##### Salvando DSC"
   ]
  },
  {
   "cell_type": "code",
   "execution_count": null,
   "metadata": {},
   "outputs": [],
   "source": [
    "dice = DiceCoef(gt_imgs=test_imgs.Y, pred_folder=prediction.n_fold_folder_name+\"/outputs_prod/*\", new_size=config[\"NEW_SIZE\"])\n",
    "n_fold = config[\"n_fold\"]\n",
    "dice.save_dice(f\"{save_report.n_fold_folder_name}/dice_fold_{n_fold}.txt\")"
   ]
  },
  {
   "attachments": {},
   "cell_type": "markdown",
   "metadata": {},
   "source": [
    "##### DSC final (n-folds)"
   ]
  },
  {
   "cell_type": "code",
   "execution_count": null,
   "metadata": {},
   "outputs": [],
   "source": [
    "dice.generate_csv_dice(save_report=save_report, n_all_folders = config[\"n_fold\"], title=config[\"title\"])"
   ]
  },
  {
   "attachments": {},
   "cell_type": "markdown",
   "metadata": {},
   "source": [
    "##### Gráficos - Performance do Treino"
   ]
  },
  {
   "cell_type": "code",
   "execution_count": null,
   "metadata": {},
   "outputs": [],
   "source": [
    "dice.generate_graphic(segment=segment, save_report=save_report, epochs=config[\"epochs\"], graphic_type=\"iou_score\")"
   ]
  },
  {
   "cell_type": "code",
   "execution_count": null,
   "metadata": {},
   "outputs": [],
   "source": [
    "dice.generate_graphic(segment=segment, save_report=save_report, epochs=config[\"epochs\"], graphic_type=\"loss\")"
   ]
  },
  {
   "attachments": {},
   "cell_type": "markdown",
   "metadata": {},
   "source": [
    "##### DSC final (n-folds)"
   ]
  },
  {
   "cell_type": "code",
   "execution_count": null,
   "metadata": {},
   "outputs": [],
   "source": [
    "dice.generate_csv_dice(save_report=save_report, n_all_folders = config[\"n_fold\"], title=config[\"title\"])"
   ]
  },
  {
   "cell_type": "code",
   "execution_count": null,
   "metadata": {},
   "outputs": [],
   "source": [
    "dice.df"
   ]
  }
 ],
 "metadata": {
  "kernelspec": {
   "display_name": "Python 3.9.7 ('tensorflow_env')",
   "language": "python",
   "name": "python3"
  },
  "language_info": {
   "codemirror_mode": {
    "name": "ipython",
    "version": 3
   },
   "file_extension": ".py",
   "mimetype": "text/x-python",
   "name": "python",
   "nbconvert_exporter": "python",
   "pygments_lexer": "ipython3",
   "version": "3.9.7"
  },
  "orig_nbformat": 4,
  "vscode": {
   "interpreter": {
    "hash": "a9b2d7418f8110456649d171dd247ed04bfc0a4e3f77f95117fec2217201beed"
   }
  }
 },
 "nbformat": 4,
 "nbformat_minor": 2
}
