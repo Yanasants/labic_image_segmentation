{
 "cells": [
  {
   "attachments": {},
   "cell_type": "markdown",
   "metadata": {},
   "source": [
    "### Labic Images Segmentation - Main Notebook"
   ]
  },
  {
   "attachments": {},
   "cell_type": "markdown",
   "metadata": {},
   "source": [
    "#### Importando módulos"
   ]
  },
  {
   "cell_type": "code",
   "execution_count": 233,
   "metadata": {},
   "outputs": [
    {
     "name": "stdout",
     "output_type": "stream",
     "text": [
      "Inicializando...\n"
     ]
    }
   ],
   "source": [
    "import labic_init\n",
    "labic_init.labic_init()"
   ]
  },
  {
   "cell_type": "code",
   "execution_count": 234,
   "metadata": {},
   "outputs": [],
   "source": [
    "from labic_images_segmentation import Dataset, DataAugmentation, SegmentationModel, SaveReport, PredictImages, DiceCoef"
   ]
  },
  {
   "attachments": {},
   "cell_type": "markdown",
   "metadata": {},
   "source": [
    "#### Diretórios e parâmetros"
   ]
  },
  {
   "cell_type": "code",
   "execution_count": 235,
   "metadata": {},
   "outputs": [],
   "source": [
    "dataset_folder = \"./TM40_Original\"\n",
    "norm_imgs_folder = \"/Norm_images/*\"\n",
    "gt_folder = \"/GT_images/*\"\n",
    "\n",
    "output_folder = \"./TM40_46Prod\"\n",
    "test_imgs_folder = \"/Producao/*\"\n",
    "gt_test_folder = \"/GT_Producao/*\"\n",
    "\n",
    "ORIGINAL_SIZE = 512\n",
    "NEW_SIZE = 256\n",
    "\n",
    "n_fold = 9\n",
    "\n",
    "batch_size = 4\n",
    "epochs = 10"
   ]
  },
  {
   "attachments": {},
   "cell_type": "markdown",
   "metadata": {},
   "source": [
    "#### Treinamento"
   ]
  },
  {
   "attachments": {},
   "cell_type": "markdown",
   "metadata": {},
   "source": [
    "##### Carregando dataset"
   ]
  },
  {
   "cell_type": "code",
   "execution_count": 236,
   "metadata": {},
   "outputs": [
    {
     "name": "stdout",
     "output_type": "stream",
     "text": [
      "\n",
      "Imagens carregadas com sucesso.\n"
     ]
    }
   ],
   "source": [
    "imgs = Dataset(folder=dataset_folder, norm_imgs_folder=norm_imgs_folder, gt_folder=gt_folder, ORIGINAL_SIZE=ORIGINAL_SIZE, NEW_SIZE=NEW_SIZE)"
   ]
  },
  {
   "attachments": {},
   "cell_type": "markdown",
   "metadata": {},
   "source": [
    "##### Dividindo dataset "
   ]
  },
  {
   "cell_type": "code",
   "execution_count": 237,
   "metadata": {},
   "outputs": [
    {
     "name": "stdout",
     "output_type": "stream",
     "text": [
      "\n",
      "Dataset subdividido.\n",
      "20.0% dos dados para validação.\n",
      "80.0% dos dados para treino.\n"
     ]
    }
   ],
   "source": [
    "imgs.split_dataset()"
   ]
  },
  {
   "attachments": {},
   "cell_type": "markdown",
   "metadata": {},
   "source": [
    "##### Data Augmentation"
   ]
  },
  {
   "cell_type": "code",
   "execution_count": 238,
   "metadata": {},
   "outputs": [],
   "source": [
    "data_aug = DataAugmentation(X_train=imgs.X_train, Y_train=imgs.Y_train, X_val=imgs.X_val, Y_val=imgs.Y_val, use_batch_size=batch_size)"
   ]
  },
  {
   "attachments": {},
   "cell_type": "markdown",
   "metadata": {},
   "source": [
    "##### Treinamento da rede"
   ]
  },
  {
   "cell_type": "code",
   "execution_count": 239,
   "metadata": {},
   "outputs": [
    {
     "name": "stdout",
     "output_type": "stream",
     "text": [
      "Epoch 1/10\n",
      "233/233 [==============================] - 41s 130ms/step - loss: 0.4413 - iou_score: 0.6533 - val_loss: 1.0844 - val_iou_score: 0.1341\n",
      "Epoch 2/10\n",
      "233/233 [==============================] - 28s 120ms/step - loss: 0.0758 - iou_score: 0.9331 - val_loss: 0.2089 - val_iou_score: 0.8287\n",
      "Epoch 3/10\n",
      "233/233 [==============================] - 28s 120ms/step - loss: 0.0523 - iou_score: 0.9541 - val_loss: 0.1037 - val_iou_score: 0.9151\n",
      "Epoch 4/10\n",
      "233/233 [==============================] - 29s 122ms/step - loss: 0.0472 - iou_score: 0.9590 - val_loss: 0.0393 - val_iou_score: 0.9652\n",
      "Epoch 5/10\n",
      "233/233 [==============================] - 29s 123ms/step - loss: 0.0370 - iou_score: 0.9675 - val_loss: 0.0412 - val_iou_score: 0.9640\n",
      "Epoch 6/10\n",
      "233/233 [==============================] - 28s 120ms/step - loss: 0.0321 - iou_score: 0.9722 - val_loss: 0.0355 - val_iou_score: 0.9691\n",
      "Epoch 7/10\n",
      "233/233 [==============================] - 28s 120ms/step - loss: 0.0318 - iou_score: 0.9723 - val_loss: 0.0386 - val_iou_score: 0.9668\n",
      "Epoch 8/10\n",
      "233/233 [==============================] - 28s 119ms/step - loss: 0.0265 - iou_score: 0.9768 - val_loss: 0.0246 - val_iou_score: 0.9784\n",
      "Epoch 9/10\n",
      "233/233 [==============================] - 29s 123ms/step - loss: 0.0280 - iou_score: 0.9759 - val_loss: 0.0666 - val_iou_score: 0.9472\n",
      "Epoch 10/10\n",
      "233/233 [==============================] - 29s 123ms/step - loss: 0.0335 - iou_score: 0.9708 - val_loss: 0.0274 - val_iou_score: 0.9762\n"
     ]
    }
   ],
   "source": [
    "segment = SegmentationModel(N=imgs.X_train.shape[-1], backbone_name=\"efficientnetb0\", trainDS=data_aug.trainDS, valDS=data_aug.valDS, epochs=epochs)"
   ]
  },
  {
   "attachments": {},
   "cell_type": "markdown",
   "metadata": {},
   "source": [
    "##### Salvando modelo"
   ]
  },
  {
   "cell_type": "code",
   "execution_count": 240,
   "metadata": {},
   "outputs": [
    {
     "name": "stdout",
     "output_type": "stream",
     "text": [
      "Diretorio  ./TM40_46Prod/outputs/Exec_2023-04-21-17-40-58.608699  ja existe\n",
      "Diretorio  ./TM40_46Prod/outputs/Exec_2023-04-21-17-40-58.608699/fold_9  Criado \n",
      "\n",
      "Modelo salvo.\n",
      "Nome: model_4_10_exec_2023-04-21-17-40-58.608699_fold_9\n",
      "Salvo em: ./TM40_46Prod/outputs/Exec_2023-04-21-17-40-58.608699\n"
     ]
    }
   ],
   "source": [
    "save_report = SaveReport(model=segment.model, history=segment.history, folder_name=output_folder, n_fold=n_fold, use_batch_size=batch_size, epochs=epochs)"
   ]
  },
  {
   "attachments": {},
   "cell_type": "markdown",
   "metadata": {},
   "source": [
    "#### Predição "
   ]
  },
  {
   "attachments": {},
   "cell_type": "markdown",
   "metadata": {},
   "source": [
    "##### Carregando imagens de teste"
   ]
  },
  {
   "cell_type": "code",
   "execution_count": 241,
   "metadata": {},
   "outputs": [
    {
     "name": "stdout",
     "output_type": "stream",
     "text": [
      "\n",
      "Imagens carregadas com sucesso.\n"
     ]
    }
   ],
   "source": [
    "test_imgs = Dataset(folder=output_folder, norm_imgs_folder=test_imgs_folder, gt_folder=gt_test_folder, ORIGINAL_SIZE=ORIGINAL_SIZE, NEW_SIZE=NEW_SIZE)"
   ]
  },
  {
   "attachments": {},
   "cell_type": "markdown",
   "metadata": {},
   "source": [
    "#### Segmentando imagens de teste"
   ]
  },
  {
   "cell_type": "code",
   "execution_count": 242,
   "metadata": {},
   "outputs": [
    {
     "name": "stdout",
     "output_type": "stream",
     "text": [
      "Diretorio  ./TM40_46Prod/outputs/Exec_2023-04-21-17-40-58.608699/fold_9/outputs_prod  Criado \n"
     ]
    },
    {
     "name": "stderr",
     "output_type": "stream",
     "text": [
      "c:\\Yana\\girino_att_Yana\\girino-segmentation\\labic_images_segmentation.py:271: UserWarning: ./TM40_46Prod/outputs/Exec_2023-04-21-17-40-58.608699/fold_9/outputs_prod/predicao_025_4.png is a low contrast image\n",
      "  io.imsave(self.n_fold_folder_name + '/outputs_prod/predicao_%s_%s.png'%(str(self.test_images.GT_imgs[i][-7:-4]), str(self.batch)),\\\n",
      "c:\\Yana\\girino_att_Yana\\girino-segmentation\\labic_images_segmentation.py:271: UserWarning: ./TM40_46Prod/outputs/Exec_2023-04-21-17-40-58.608699/fold_9/outputs_prod/predicao_026_4.png is a low contrast image\n",
      "  io.imsave(self.n_fold_folder_name + '/outputs_prod/predicao_%s_%s.png'%(str(self.test_images.GT_imgs[i][-7:-4]), str(self.batch)),\\\n",
      "c:\\Yana\\girino_att_Yana\\girino-segmentation\\labic_images_segmentation.py:271: UserWarning: ./TM40_46Prod/outputs/Exec_2023-04-21-17-40-58.608699/fold_9/outputs_prod/predicao_027_4.png is a low contrast image\n",
      "  io.imsave(self.n_fold_folder_name + '/outputs_prod/predicao_%s_%s.png'%(str(self.test_images.GT_imgs[i][-7:-4]), str(self.batch)),\\\n",
      "c:\\Yana\\girino_att_Yana\\girino-segmentation\\labic_images_segmentation.py:271: UserWarning: ./TM40_46Prod/outputs/Exec_2023-04-21-17-40-58.608699/fold_9/outputs_prod/predicao_028_4.png is a low contrast image\n",
      "  io.imsave(self.n_fold_folder_name + '/outputs_prod/predicao_%s_%s.png'%(str(self.test_images.GT_imgs[i][-7:-4]), str(self.batch)),\\\n",
      "c:\\Yana\\girino_att_Yana\\girino-segmentation\\labic_images_segmentation.py:271: UserWarning: ./TM40_46Prod/outputs/Exec_2023-04-21-17-40-58.608699/fold_9/outputs_prod/predicao_029_4.png is a low contrast image\n",
      "  io.imsave(self.n_fold_folder_name + '/outputs_prod/predicao_%s_%s.png'%(str(self.test_images.GT_imgs[i][-7:-4]), str(self.batch)),\\\n",
      "c:\\Yana\\girino_att_Yana\\girino-segmentation\\labic_images_segmentation.py:271: UserWarning: ./TM40_46Prod/outputs/Exec_2023-04-21-17-40-58.608699/fold_9/outputs_prod/predicao_030_4.png is a low contrast image\n",
      "  io.imsave(self.n_fold_folder_name + '/outputs_prod/predicao_%s_%s.png'%(str(self.test_images.GT_imgs[i][-7:-4]), str(self.batch)),\\\n",
      "c:\\Yana\\girino_att_Yana\\girino-segmentation\\labic_images_segmentation.py:271: UserWarning: ./TM40_46Prod/outputs/Exec_2023-04-21-17-40-58.608699/fold_9/outputs_prod/predicao_031_4.png is a low contrast image\n",
      "  io.imsave(self.n_fold_folder_name + '/outputs_prod/predicao_%s_%s.png'%(str(self.test_images.GT_imgs[i][-7:-4]), str(self.batch)),\\\n",
      "c:\\Yana\\girino_att_Yana\\girino-segmentation\\labic_images_segmentation.py:271: UserWarning: ./TM40_46Prod/outputs/Exec_2023-04-21-17-40-58.608699/fold_9/outputs_prod/predicao_032_4.png is a low contrast image\n",
      "  io.imsave(self.n_fold_folder_name + '/outputs_prod/predicao_%s_%s.png'%(str(self.test_images.GT_imgs[i][-7:-4]), str(self.batch)),\\\n",
      "c:\\Yana\\girino_att_Yana\\girino-segmentation\\labic_images_segmentation.py:271: UserWarning: ./TM40_46Prod/outputs/Exec_2023-04-21-17-40-58.608699/fold_9/outputs_prod/predicao_033_4.png is a low contrast image\n",
      "  io.imsave(self.n_fold_folder_name + '/outputs_prod/predicao_%s_%s.png'%(str(self.test_images.GT_imgs[i][-7:-4]), str(self.batch)),\\\n",
      "c:\\Yana\\girino_att_Yana\\girino-segmentation\\labic_images_segmentation.py:271: UserWarning: ./TM40_46Prod/outputs/Exec_2023-04-21-17-40-58.608699/fold_9/outputs_prod/predicao_034_4.png is a low contrast image\n",
      "  io.imsave(self.n_fold_folder_name + '/outputs_prod/predicao_%s_%s.png'%(str(self.test_images.GT_imgs[i][-7:-4]), str(self.batch)),\\\n",
      "c:\\Yana\\girino_att_Yana\\girino-segmentation\\labic_images_segmentation.py:271: UserWarning: ./TM40_46Prod/outputs/Exec_2023-04-21-17-40-58.608699/fold_9/outputs_prod/predicao_035_4.png is a low contrast image\n",
      "  io.imsave(self.n_fold_folder_name + '/outputs_prod/predicao_%s_%s.png'%(str(self.test_images.GT_imgs[i][-7:-4]), str(self.batch)),\\\n",
      "c:\\Yana\\girino_att_Yana\\girino-segmentation\\labic_images_segmentation.py:271: UserWarning: ./TM40_46Prod/outputs/Exec_2023-04-21-17-40-58.608699/fold_9/outputs_prod/predicao_036_4.png is a low contrast image\n",
      "  io.imsave(self.n_fold_folder_name + '/outputs_prod/predicao_%s_%s.png'%(str(self.test_images.GT_imgs[i][-7:-4]), str(self.batch)),\\\n",
      "c:\\Yana\\girino_att_Yana\\girino-segmentation\\labic_images_segmentation.py:271: UserWarning: ./TM40_46Prod/outputs/Exec_2023-04-21-17-40-58.608699/fold_9/outputs_prod/predicao_037_4.png is a low contrast image\n",
      "  io.imsave(self.n_fold_folder_name + '/outputs_prod/predicao_%s_%s.png'%(str(self.test_images.GT_imgs[i][-7:-4]), str(self.batch)),\\\n",
      "c:\\Yana\\girino_att_Yana\\girino-segmentation\\labic_images_segmentation.py:271: UserWarning: ./TM40_46Prod/outputs/Exec_2023-04-21-17-40-58.608699/fold_9/outputs_prod/predicao_038_4.png is a low contrast image\n",
      "  io.imsave(self.n_fold_folder_name + '/outputs_prod/predicao_%s_%s.png'%(str(self.test_images.GT_imgs[i][-7:-4]), str(self.batch)),\\\n",
      "c:\\Yana\\girino_att_Yana\\girino-segmentation\\labic_images_segmentation.py:271: UserWarning: ./TM40_46Prod/outputs/Exec_2023-04-21-17-40-58.608699/fold_9/outputs_prod/predicao_039_4.png is a low contrast image\n",
      "  io.imsave(self.n_fold_folder_name + '/outputs_prod/predicao_%s_%s.png'%(str(self.test_images.GT_imgs[i][-7:-4]), str(self.batch)),\\\n",
      "c:\\Yana\\girino_att_Yana\\girino-segmentation\\labic_images_segmentation.py:271: UserWarning: ./TM40_46Prod/outputs/Exec_2023-04-21-17-40-58.608699/fold_9/outputs_prod/predicao_040_4.png is a low contrast image\n",
      "  io.imsave(self.n_fold_folder_name + '/outputs_prod/predicao_%s_%s.png'%(str(self.test_images.GT_imgs[i][-7:-4]), str(self.batch)),\\\n",
      "c:\\Yana\\girino_att_Yana\\girino-segmentation\\labic_images_segmentation.py:271: UserWarning: ./TM40_46Prod/outputs/Exec_2023-04-21-17-40-58.608699/fold_9/outputs_prod/predicao_041_4.png is a low contrast image\n",
      "  io.imsave(self.n_fold_folder_name + '/outputs_prod/predicao_%s_%s.png'%(str(self.test_images.GT_imgs[i][-7:-4]), str(self.batch)),\\\n",
      "c:\\Yana\\girino_att_Yana\\girino-segmentation\\labic_images_segmentation.py:271: UserWarning: ./TM40_46Prod/outputs/Exec_2023-04-21-17-40-58.608699/fold_9/outputs_prod/predicao_042_4.png is a low contrast image\n",
      "  io.imsave(self.n_fold_folder_name + '/outputs_prod/predicao_%s_%s.png'%(str(self.test_images.GT_imgs[i][-7:-4]), str(self.batch)),\\\n",
      "c:\\Yana\\girino_att_Yana\\girino-segmentation\\labic_images_segmentation.py:271: UserWarning: ./TM40_46Prod/outputs/Exec_2023-04-21-17-40-58.608699/fold_9/outputs_prod/predicao_043_4.png is a low contrast image\n",
      "  io.imsave(self.n_fold_folder_name + '/outputs_prod/predicao_%s_%s.png'%(str(self.test_images.GT_imgs[i][-7:-4]), str(self.batch)),\\\n",
      "c:\\Yana\\girino_att_Yana\\girino-segmentation\\labic_images_segmentation.py:271: UserWarning: ./TM40_46Prod/outputs/Exec_2023-04-21-17-40-58.608699/fold_9/outputs_prod/predicao_044_4.png is a low contrast image\n",
      "  io.imsave(self.n_fold_folder_name + '/outputs_prod/predicao_%s_%s.png'%(str(self.test_images.GT_imgs[i][-7:-4]), str(self.batch)),\\\n",
      "c:\\Yana\\girino_att_Yana\\girino-segmentation\\labic_images_segmentation.py:271: UserWarning: ./TM40_46Prod/outputs/Exec_2023-04-21-17-40-58.608699/fold_9/outputs_prod/predicao_045_4.png is a low contrast image\n",
      "  io.imsave(self.n_fold_folder_name + '/outputs_prod/predicao_%s_%s.png'%(str(self.test_images.GT_imgs[i][-7:-4]), str(self.batch)),\\\n",
      "c:\\Yana\\girino_att_Yana\\girino-segmentation\\labic_images_segmentation.py:271: UserWarning: ./TM40_46Prod/outputs/Exec_2023-04-21-17-40-58.608699/fold_9/outputs_prod/predicao_413_4.png is a low contrast image\n",
      "  io.imsave(self.n_fold_folder_name + '/outputs_prod/predicao_%s_%s.png'%(str(self.test_images.GT_imgs[i][-7:-4]), str(self.batch)),\\\n",
      "c:\\Yana\\girino_att_Yana\\girino-segmentation\\labic_images_segmentation.py:271: UserWarning: ./TM40_46Prod/outputs/Exec_2023-04-21-17-40-58.608699/fold_9/outputs_prod/predicao_414_4.png is a low contrast image\n",
      "  io.imsave(self.n_fold_folder_name + '/outputs_prod/predicao_%s_%s.png'%(str(self.test_images.GT_imgs[i][-7:-4]), str(self.batch)),\\\n",
      "c:\\Yana\\girino_att_Yana\\girino-segmentation\\labic_images_segmentation.py:271: UserWarning: ./TM40_46Prod/outputs/Exec_2023-04-21-17-40-58.608699/fold_9/outputs_prod/predicao_415_4.png is a low contrast image\n",
      "  io.imsave(self.n_fold_folder_name + '/outputs_prod/predicao_%s_%s.png'%(str(self.test_images.GT_imgs[i][-7:-4]), str(self.batch)),\\\n",
      "c:\\Yana\\girino_att_Yana\\girino-segmentation\\labic_images_segmentation.py:271: UserWarning: ./TM40_46Prod/outputs/Exec_2023-04-21-17-40-58.608699/fold_9/outputs_prod/predicao_416_4.png is a low contrast image\n",
      "  io.imsave(self.n_fold_folder_name + '/outputs_prod/predicao_%s_%s.png'%(str(self.test_images.GT_imgs[i][-7:-4]), str(self.batch)),\\\n",
      "c:\\Yana\\girino_att_Yana\\girino-segmentation\\labic_images_segmentation.py:271: UserWarning: ./TM40_46Prod/outputs/Exec_2023-04-21-17-40-58.608699/fold_9/outputs_prod/predicao_417_4.png is a low contrast image\n",
      "  io.imsave(self.n_fold_folder_name + '/outputs_prod/predicao_%s_%s.png'%(str(self.test_images.GT_imgs[i][-7:-4]), str(self.batch)),\\\n"
     ]
    },
    {
     "name": "stdout",
     "output_type": "stream",
     "text": [
      "\n",
      "Imagens preditas com sucesso.\n"
     ]
    },
    {
     "name": "stderr",
     "output_type": "stream",
     "text": [
      "c:\\Yana\\girino_att_Yana\\girino-segmentation\\labic_images_segmentation.py:271: UserWarning: ./TM40_46Prod/outputs/Exec_2023-04-21-17-40-58.608699/fold_9/outputs_prod/predicao_431_4.png is a low contrast image\n",
      "  io.imsave(self.n_fold_folder_name + '/outputs_prod/predicao_%s_%s.png'%(str(self.test_images.GT_imgs[i][-7:-4]), str(self.batch)),\\\n",
      "c:\\Yana\\girino_att_Yana\\girino-segmentation\\labic_images_segmentation.py:271: UserWarning: ./TM40_46Prod/outputs/Exec_2023-04-21-17-40-58.608699/fold_9/outputs_prod/predicao_432_4.png is a low contrast image\n",
      "  io.imsave(self.n_fold_folder_name + '/outputs_prod/predicao_%s_%s.png'%(str(self.test_images.GT_imgs[i][-7:-4]), str(self.batch)),\\\n"
     ]
    }
   ],
   "source": [
    "prediction = PredictImages(test_images=test_imgs, n_fold_folder_name=save_report.n_fold_folder_name, \\\n",
    "                           model_name=save_report.model_name, use_batch_size=batch_size, img_shape=test_imgs.img_shape)"
   ]
  },
  {
   "attachments": {},
   "cell_type": "markdown",
   "metadata": {},
   "source": [
    "##### Salvando DSC"
   ]
  },
  {
   "cell_type": "code",
   "execution_count": 243,
   "metadata": {},
   "outputs": [
    {
     "name": "stdout",
     "output_type": "stream",
     "text": [
      "Coeficiente Dice: 0.9525869471124535\n"
     ]
    }
   ],
   "source": [
    "dice = DiceCoef(gt_imgs=test_imgs.Y, pred_folder=prediction.n_fold_folder_name+\"/outputs_prod/*\", new_size=NEW_SIZE)\n",
    "dice.save_dice(f\"{save_report.n_fold_folder_name}/dice_fold_{n_fold}.txt\")"
   ]
  },
  {
   "attachments": {},
   "cell_type": "markdown",
   "metadata": {},
   "source": [
    "##### DSC final (n-folds)"
   ]
  },
  {
   "cell_type": "code",
   "execution_count": 245,
   "metadata": {},
   "outputs": [],
   "source": [
    "import pandas as pd\n",
    "\n",
    "all_dice = []\n",
    "for i in range(n_fold+1):\n",
    "    with open(f\"{save_report.exec_folder_name}/fold_{i}/dice_fold_{i}.txt\", \"r\") as file:\n",
    "        content = file.read()\n",
    "        dice = float(content[6:])\n",
    "        all_dice.append(dice)\n",
    "df = pd.DataFrame({\"Unet_efficientNetb0\":all_dice})\n",
    "df.to_csv(f\"{save_report.exec_folder_name}/Unet_efficientNetb0.csv\")"
   ]
  }
 ],
 "metadata": {
  "kernelspec": {
   "display_name": "Python 3.9.7 ('tensorflow_env')",
   "language": "python",
   "name": "python3"
  },
  "language_info": {
   "codemirror_mode": {
    "name": "ipython",
    "version": 3
   },
   "file_extension": ".py",
   "mimetype": "text/x-python",
   "name": "python",
   "nbconvert_exporter": "python",
   "pygments_lexer": "ipython3",
   "version": "3.9.7"
  },
  "orig_nbformat": 4,
  "vscode": {
   "interpreter": {
    "hash": "a9b2d7418f8110456649d171dd247ed04bfc0a4e3f77f95117fec2217201beed"
   }
  }
 },
 "nbformat": 4,
 "nbformat_minor": 2
}
